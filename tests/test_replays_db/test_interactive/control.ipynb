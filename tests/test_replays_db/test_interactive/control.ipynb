{
 "cells": [
  {
   "cell_type": "code",
   "execution_count": 1,
   "id": "07d72226",
   "metadata": {},
   "outputs": [
    {
     "name": "stdout",
     "output_type": "stream",
     "text": [
      "scan dt = 0.39s\n",
      "len replays = 4\n",
      "len users = 125\n",
      "len units = 164\n"
     ]
    }
   ],
   "source": [
    "import time\n",
    "from pathlib import Path\n",
    "from wt_tools.replays_db.replays_db import ReplaysDb\n",
    "\n",
    "replays_path = Path('/home/kotiq/games/WarThunder/Replays')\n",
    "db_path = Path(\"/tmp/control/replays.d\")\n",
    "sid_pred = lambda sid: sid > 148690840076944021\n",
    "# sid_pred = None\n",
    "db = ReplaysDb(replays_path=replays_path, db_path=db_path)\n",
    "t0 = time.time()\n",
    "db.update_from_replays(sid_pred=sid_pred)\n",
    "t1 = time.time()\n",
    "print(f'scan dt = {t1 - t0:.2f}s')\n",
    "print(db.summary())"
   ]
  },
  {
   "cell_type": "code",
   "execution_count": 2,
   "id": "880c18e9",
   "metadata": {},
   "outputs": [
    {
     "name": "stdout",
     "output_type": "stream",
     "text": [
      "/tmp/control/replays.d:\n",
      "- units.json: 9_794\n",
      "- users.json: 3_505\n",
      "- replays.json: 29_662\n"
     ]
    }
   ],
   "source": [
    "db.save()\n",
    "print(f'{db_path}:')\n",
    "for path in db_path.glob('*.json'):\n",
    "    print(f'- {path.relative_to(db_path)}: {path.stat().st_size:_}')"
   ]
  },
  {
   "cell_type": "code",
   "execution_count": 3,
   "id": "504be313",
   "metadata": {},
   "outputs": [
    {
     "name": "stdout",
     "output_type": "stream",
     "text": [
      "len replays = 0\n",
      "len users = 0\n",
      "len units = 0\n"
     ]
    }
   ],
   "source": [
    "db.clear()\n",
    "print(db.summary())"
   ]
  },
  {
   "cell_type": "code",
   "execution_count": 4,
   "id": "a2977443",
   "metadata": {},
   "outputs": [
    {
     "name": "stdout",
     "output_type": "stream",
     "text": [
      "load dt = 0.07s\n",
      "len replays = 4\n",
      "len users = 125\n",
      "len units = 164\n"
     ]
    }
   ],
   "source": [
    "t0 = time.time()\n",
    "db.load()\n",
    "t1 = time.time()\n",
    "print(f'load dt = {t1 - t0:.2f}s')\n",
    "print(db.summary())"
   ]
  },
  {
   "cell_type": "code",
   "execution_count": null,
   "id": "28d80758",
   "metadata": {},
   "outputs": [],
   "source": []
  }
 ],
 "metadata": {
  "kernelspec": {
   "display_name": "wt-tools",
   "language": "python",
   "name": "wt-tools"
  },
  "language_info": {
   "codemirror_mode": {
    "name": "ipython",
    "version": 3
   },
   "file_extension": ".py",
   "mimetype": "text/x-python",
   "name": "python",
   "nbconvert_exporter": "python",
   "pygments_lexer": "ipython3",
   "version": "3.7.12"
  }
 },
 "nbformat": 4,
 "nbformat_minor": 5
}
