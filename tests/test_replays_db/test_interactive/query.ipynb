{
 "cells": [
  {
   "cell_type": "code",
   "execution_count": 1,
   "id": "1d19c21f",
   "metadata": {},
   "outputs": [
    {
     "name": "stdout",
     "output_type": "stream",
     "text": [
      "merge dt = 9.26\n",
      "len replays = 104\n",
      "len users = 3035\n",
      "len units = 455\n"
     ]
    }
   ],
   "source": [
    "import time\n",
    "from pathlib import Path\n",
    "from wt_tools.replays_db.replays_db import ReplaysDb, br_from, er_from\n",
    "from collections import Counter\n",
    "from operator import itemgetter\n",
    "\n",
    "get_info = itemgetter('info')\n",
    "get_rank = itemgetter('rank')\n",
    "get_units = itemgetter('units')\n",
    "\n",
    "replays_path = Path('/home/kotiq/games/WarThunder/Replays')\n",
    "db_path = Path(\"/tmp/query/replays.d\")\n",
    "db = ReplaysDb(replays_path=replays_path, db_path=db_path)\n",
    "t0 = time.time()\n",
    "db.update_from_replays()\n",
    "t1 = time.time()\n",
    "print(f'merge dt = {t1 - t0:.2f}')\n",
    "print(db.summary())"
   ]
  },
  {
   "cell_type": "code",
   "execution_count": 2,
   "id": "27c2b008",
   "metadata": {},
   "outputs": [],
   "source": [
    "users = db.tables['users']\n",
    "units = db.tables['units']\n",
    "replays = db.tables['replays']"
   ]
  },
  {
   "cell_type": "markdown",
   "id": "4b2513ef",
   "metadata": {},
   "source": [
    "Участники сессий:"
   ]
  },
  {
   "cell_type": "code",
   "execution_count": 3,
   "id": "798227ee",
   "metadata": {},
   "outputs": [
    {
     "name": "stdout",
     "output_type": "stream",
     "text": [
      "uids: [162_017..125_020_060]\n"
     ]
    }
   ],
   "source": [
    "min_uid = min(users)\n",
    "max_uid = max(users)\n",
    "print(f'uids: [{min_uid:_}..{max_uid:_}]')"
   ]
  },
  {
   "cell_type": "markdown",
   "id": "319a47ef",
   "metadata": {},
   "source": [
    "Экономический ранг и боевой рейтинг машины:"
   ]
  },
  {
   "cell_type": "code",
   "execution_count": 4,
   "id": "59a79b3d",
   "metadata": {},
   "outputs": [
    {
     "name": "stdout",
     "output_type": "stream",
     "text": [
      "Brummbar's (rank, br): (10, 4.3)\n"
     ]
    }
   ],
   "source": [
    "brummbar_name = 'germ_sturmpanzer_IV_brummbar'\n",
    "brummbar_rank = units[brummbar_name]['rank']\n",
    "brummbar_br = br_from(brummbar_rank)\n",
    "print(f'Brummbar\\'s (rank, br): ({brummbar_rank}, {brummbar_br})')"
   ]
  },
  {
   "cell_type": "markdown",
   "id": "5e1da0b4",
   "metadata": {},
   "source": [
    "Номер и ник игрока:"
   ]
  },
  {
   "cell_type": "code",
   "execution_count": 5,
   "id": "4201e91a",
   "metadata": {},
   "outputs": [
    {
     "name": "stdout",
     "output_type": "stream",
     "text": [
      "Playser's (uid, nick): (38004121, kotiq)\n"
     ]
    }
   ],
   "source": [
    "my_uid = None\n",
    "my_nick = 'kotiq'\n",
    "for uid_, nick_ in users.items():\n",
    "    if my_nick == nick_:\n",
    "        my_uid = uid_\n",
    "        break\n",
    "print(f'Playser\\'s (uid, nick): ({my_uid}, {my_nick})')            "
   ]
  },
  {
   "cell_type": "code",
   "execution_count": 6,
   "id": "6ba7666b",
   "metadata": {},
   "outputs": [],
   "source": [
    "def part_by(replays, update, uid, unit, rank):\n",
    "    counter = Counter()\n",
    "    for info in map(get_info, replays.values()):\n",
    "        data = info.get(uid)\n",
    "        if data and unit in get_units(data) and rank == get_rank(data): \n",
    "            update(counter, info)\n",
    "    return counter"
   ]
  },
  {
   "cell_type": "markdown",
   "id": "1d0b0f23",
   "metadata": {},
   "source": [
    "Часть боев с разницей ранга игрока и наибольшего ранга в этом бою:"
   ]
  },
  {
   "cell_type": "code",
   "execution_count": 7,
   "id": "00de1088",
   "metadata": {},
   "outputs": [
    {
     "name": "stdout",
     "output_type": "stream",
     "text": [
      "total sessions: 52\n",
      "0 => 17.3%\n",
      "1 => 17.3%\n",
      "2 => 28.8%\n",
      "3 => 36.5%\n"
     ]
    }
   ],
   "source": [
    "def update_max_rank(counter, info):\n",
    "    max_rank = max(map(get_rank, info.values()))\n",
    "    counter.update([max_rank])\n",
    "\n",
    "counter = part_by(replays, update_max_rank, my_uid, brummbar_name, brummbar_rank)\n",
    "total = sum(counter.values())\n",
    "print(f'total sessions: {total}')\n",
    "for rank in sorted(counter):    \n",
    "    count = counter[rank]\n",
    "    print(f'{rank - brummbar_rank} => {100*count/total:>4.1f}%')"
   ]
  },
  {
   "cell_type": "markdown",
   "id": "261c5d5b",
   "metadata": {},
   "source": [
    "Часть боев с диапазонами разницы рангов игрока и остальных участников:"
   ]
  },
  {
   "cell_type": "code",
   "execution_count": 8,
   "id": "5181ad30",
   "metadata": {},
   "outputs": [
    {
     "name": "stdout",
     "output_type": "stream",
     "text": [
      "total sessions: 52\n",
      "target rank: 10\n",
      "(-3, 0) => 15.4%\n",
      "(-2, 0) =>  1.9%\n",
      "(-2, 1) => 15.4%\n",
      "(-1, 1) =>  1.9%\n",
      "(-1, 2) => 23.1%\n",
      "(0, 2)  =>  5.8%\n",
      "(0, 3)  => 36.5%\n"
     ]
    }
   ],
   "source": [
    "def update_min_max_rank(counter, info):\n",
    "    max_rank = max(map(get_rank, info.values()))\n",
    "    min_rank = min(map(get_rank, info.values()))\n",
    "    counter.update([(min_rank, max_rank)])\n",
    "        \n",
    "counter = part_by(replays, update_min_max_rank, my_uid, brummbar_name, brummbar_rank)          \n",
    "total = sum(counter.values())\n",
    "print(f'total sessions: {total}')\n",
    "print(f'target rank: {brummbar_rank}')\n",
    "for p in sorted(counter):\n",
    "    count = counter[p]\n",
    "    rs = tuple(map(brummbar_rank.__rsub__, p))\n",
    "    print(f'{rs!s:<7} => {100*count/total:>4.1f}%')"
   ]
  },
  {
   "cell_type": "code",
   "execution_count": null,
   "id": "01c7ae5d",
   "metadata": {},
   "outputs": [],
   "source": []
  }
 ],
 "metadata": {
  "kernelspec": {
   "display_name": "wt-tools",
   "language": "python",
   "name": "wt-tools"
  },
  "language_info": {
   "codemirror_mode": {
    "name": "ipython",
    "version": 3
   },
   "file_extension": ".py",
   "mimetype": "text/x-python",
   "name": "python",
   "nbconvert_exporter": "python",
   "pygments_lexer": "ipython3",
   "version": "3.7.12"
  }
 },
 "nbformat": 4,
 "nbformat_minor": 5
}
